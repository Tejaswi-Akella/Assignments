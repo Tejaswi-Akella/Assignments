{
 "cells": [
  {
   "cell_type": "code",
   "execution_count": 1,
   "id": "c976f5b6",
   "metadata": {
    "ExecuteTime": {
     "end_time": "2022-01-20T14:47:15.405376Z",
     "start_time": "2022-01-20T14:47:13.698493Z"
    }
   },
   "outputs": [],
   "source": [
    "import pandas as pd\n",
    "import numpy as np\n",
    "import matplotlib.pyplot as plt"
   ]
  },
  {
   "cell_type": "code",
   "execution_count": 2,
   "id": "ca405e5d",
   "metadata": {
    "ExecuteTime": {
     "end_time": "2022-01-20T14:47:17.892936Z",
     "start_time": "2022-01-20T14:47:17.785599Z"
    }
   },
   "outputs": [
    {
     "data": {
      "text/html": [
       "<div>\n",
       "<style scoped>\n",
       "    .dataframe tbody tr th:only-of-type {\n",
       "        vertical-align: middle;\n",
       "    }\n",
       "\n",
       "    .dataframe tbody tr th {\n",
       "        vertical-align: top;\n",
       "    }\n",
       "\n",
       "    .dataframe thead th {\n",
       "        text-align: right;\n",
       "    }\n",
       "</style>\n",
       "<table border=\"1\" class=\"dataframe\">\n",
       "  <thead>\n",
       "    <tr style=\"text-align: right;\">\n",
       "      <th></th>\n",
       "      <th>AT</th>\n",
       "      <th>AP</th>\n",
       "      <th>AH</th>\n",
       "      <th>AFDP</th>\n",
       "      <th>GTEP</th>\n",
       "      <th>TIT</th>\n",
       "      <th>TAT</th>\n",
       "      <th>TEY</th>\n",
       "      <th>CDP</th>\n",
       "      <th>CO</th>\n",
       "      <th>NOX</th>\n",
       "    </tr>\n",
       "  </thead>\n",
       "  <tbody>\n",
       "    <tr>\n",
       "      <th>0</th>\n",
       "      <td>6.8594</td>\n",
       "      <td>1007.9</td>\n",
       "      <td>96.799</td>\n",
       "      <td>3.5000</td>\n",
       "      <td>19.663</td>\n",
       "      <td>1059.2</td>\n",
       "      <td>550.00</td>\n",
       "      <td>114.70</td>\n",
       "      <td>10.605</td>\n",
       "      <td>3.1547</td>\n",
       "      <td>82.722</td>\n",
       "    </tr>\n",
       "    <tr>\n",
       "      <th>1</th>\n",
       "      <td>6.7850</td>\n",
       "      <td>1008.4</td>\n",
       "      <td>97.118</td>\n",
       "      <td>3.4998</td>\n",
       "      <td>19.728</td>\n",
       "      <td>1059.3</td>\n",
       "      <td>550.00</td>\n",
       "      <td>114.72</td>\n",
       "      <td>10.598</td>\n",
       "      <td>3.2363</td>\n",
       "      <td>82.776</td>\n",
       "    </tr>\n",
       "    <tr>\n",
       "      <th>2</th>\n",
       "      <td>6.8977</td>\n",
       "      <td>1008.8</td>\n",
       "      <td>95.939</td>\n",
       "      <td>3.4824</td>\n",
       "      <td>19.779</td>\n",
       "      <td>1059.4</td>\n",
       "      <td>549.87</td>\n",
       "      <td>114.71</td>\n",
       "      <td>10.601</td>\n",
       "      <td>3.2012</td>\n",
       "      <td>82.468</td>\n",
       "    </tr>\n",
       "    <tr>\n",
       "      <th>3</th>\n",
       "      <td>7.0569</td>\n",
       "      <td>1009.2</td>\n",
       "      <td>95.249</td>\n",
       "      <td>3.4805</td>\n",
       "      <td>19.792</td>\n",
       "      <td>1059.6</td>\n",
       "      <td>549.99</td>\n",
       "      <td>114.72</td>\n",
       "      <td>10.606</td>\n",
       "      <td>3.1923</td>\n",
       "      <td>82.670</td>\n",
       "    </tr>\n",
       "    <tr>\n",
       "      <th>4</th>\n",
       "      <td>7.3978</td>\n",
       "      <td>1009.7</td>\n",
       "      <td>95.150</td>\n",
       "      <td>3.4976</td>\n",
       "      <td>19.765</td>\n",
       "      <td>1059.7</td>\n",
       "      <td>549.98</td>\n",
       "      <td>114.72</td>\n",
       "      <td>10.612</td>\n",
       "      <td>3.2484</td>\n",
       "      <td>82.311</td>\n",
       "    </tr>\n",
       "  </tbody>\n",
       "</table>\n",
       "</div>"
      ],
      "text/plain": [
       "       AT      AP      AH    AFDP    GTEP     TIT     TAT     TEY     CDP  \\\n",
       "0  6.8594  1007.9  96.799  3.5000  19.663  1059.2  550.00  114.70  10.605   \n",
       "1  6.7850  1008.4  97.118  3.4998  19.728  1059.3  550.00  114.72  10.598   \n",
       "2  6.8977  1008.8  95.939  3.4824  19.779  1059.4  549.87  114.71  10.601   \n",
       "3  7.0569  1009.2  95.249  3.4805  19.792  1059.6  549.99  114.72  10.606   \n",
       "4  7.3978  1009.7  95.150  3.4976  19.765  1059.7  549.98  114.72  10.612   \n",
       "\n",
       "       CO     NOX  \n",
       "0  3.1547  82.722  \n",
       "1  3.2363  82.776  \n",
       "2  3.2012  82.468  \n",
       "3  3.1923  82.670  \n",
       "4  3.2484  82.311  "
      ]
     },
     "execution_count": 2,
     "metadata": {},
     "output_type": "execute_result"
    }
   ],
   "source": [
    "data = pd.read_csv(\"gas_turbines.csv\")\n",
    "data.head()"
   ]
  },
  {
   "cell_type": "code",
   "execution_count": null,
   "id": "a4643352",
   "metadata": {},
   "outputs": [],
   "source": []
  },
  {
   "cell_type": "code",
   "execution_count": 3,
   "id": "ee7ebb5b",
   "metadata": {
    "ExecuteTime": {
     "end_time": "2022-01-20T14:47:20.634388Z",
     "start_time": "2022-01-20T14:47:20.610581Z"
    }
   },
   "outputs": [
    {
     "data": {
      "text/plain": [
       "(15039, 11)"
      ]
     },
     "execution_count": 3,
     "metadata": {},
     "output_type": "execute_result"
    }
   ],
   "source": [
    "data.shape"
   ]
  },
  {
   "cell_type": "code",
   "execution_count": 4,
   "id": "9522e4df",
   "metadata": {
    "ExecuteTime": {
     "end_time": "2022-01-20T14:47:23.372191Z",
     "start_time": "2022-01-20T14:47:23.274966Z"
    }
   },
   "outputs": [
    {
     "data": {
      "text/html": [
       "<div>\n",
       "<style scoped>\n",
       "    .dataframe tbody tr th:only-of-type {\n",
       "        vertical-align: middle;\n",
       "    }\n",
       "\n",
       "    .dataframe tbody tr th {\n",
       "        vertical-align: top;\n",
       "    }\n",
       "\n",
       "    .dataframe thead th {\n",
       "        text-align: right;\n",
       "    }\n",
       "</style>\n",
       "<table border=\"1\" class=\"dataframe\">\n",
       "  <thead>\n",
       "    <tr style=\"text-align: right;\">\n",
       "      <th></th>\n",
       "      <th>AT</th>\n",
       "      <th>AP</th>\n",
       "      <th>AH</th>\n",
       "      <th>AFDP</th>\n",
       "      <th>GTEP</th>\n",
       "      <th>TIT</th>\n",
       "      <th>TAT</th>\n",
       "      <th>TEY</th>\n",
       "      <th>CDP</th>\n",
       "      <th>CO</th>\n",
       "      <th>NOX</th>\n",
       "    </tr>\n",
       "  </thead>\n",
       "  <tbody>\n",
       "    <tr>\n",
       "      <th>count</th>\n",
       "      <td>15039.000000</td>\n",
       "      <td>15039.00000</td>\n",
       "      <td>15039.000000</td>\n",
       "      <td>15039.000000</td>\n",
       "      <td>15039.000000</td>\n",
       "      <td>15039.000000</td>\n",
       "      <td>15039.000000</td>\n",
       "      <td>15039.000000</td>\n",
       "      <td>15039.000000</td>\n",
       "      <td>15039.000000</td>\n",
       "      <td>15039.000000</td>\n",
       "    </tr>\n",
       "    <tr>\n",
       "      <th>mean</th>\n",
       "      <td>17.764381</td>\n",
       "      <td>1013.19924</td>\n",
       "      <td>79.124174</td>\n",
       "      <td>4.200294</td>\n",
       "      <td>25.419061</td>\n",
       "      <td>1083.798770</td>\n",
       "      <td>545.396183</td>\n",
       "      <td>134.188464</td>\n",
       "      <td>12.102353</td>\n",
       "      <td>1.972499</td>\n",
       "      <td>68.190934</td>\n",
       "    </tr>\n",
       "    <tr>\n",
       "      <th>std</th>\n",
       "      <td>7.574323</td>\n",
       "      <td>6.41076</td>\n",
       "      <td>13.793439</td>\n",
       "      <td>0.760197</td>\n",
       "      <td>4.173916</td>\n",
       "      <td>16.527806</td>\n",
       "      <td>7.866803</td>\n",
       "      <td>15.829717</td>\n",
       "      <td>1.103196</td>\n",
       "      <td>2.222206</td>\n",
       "      <td>10.470586</td>\n",
       "    </tr>\n",
       "    <tr>\n",
       "      <th>min</th>\n",
       "      <td>0.522300</td>\n",
       "      <td>985.85000</td>\n",
       "      <td>30.344000</td>\n",
       "      <td>2.087400</td>\n",
       "      <td>17.878000</td>\n",
       "      <td>1000.800000</td>\n",
       "      <td>512.450000</td>\n",
       "      <td>100.170000</td>\n",
       "      <td>9.904400</td>\n",
       "      <td>0.000388</td>\n",
       "      <td>27.765000</td>\n",
       "    </tr>\n",
       "    <tr>\n",
       "      <th>25%</th>\n",
       "      <td>11.408000</td>\n",
       "      <td>1008.90000</td>\n",
       "      <td>69.750000</td>\n",
       "      <td>3.723900</td>\n",
       "      <td>23.294000</td>\n",
       "      <td>1079.600000</td>\n",
       "      <td>542.170000</td>\n",
       "      <td>127.985000</td>\n",
       "      <td>11.622000</td>\n",
       "      <td>0.858055</td>\n",
       "      <td>61.303500</td>\n",
       "    </tr>\n",
       "    <tr>\n",
       "      <th>50%</th>\n",
       "      <td>18.186000</td>\n",
       "      <td>1012.80000</td>\n",
       "      <td>82.266000</td>\n",
       "      <td>4.186200</td>\n",
       "      <td>25.082000</td>\n",
       "      <td>1088.700000</td>\n",
       "      <td>549.890000</td>\n",
       "      <td>133.780000</td>\n",
       "      <td>12.025000</td>\n",
       "      <td>1.390200</td>\n",
       "      <td>66.601000</td>\n",
       "    </tr>\n",
       "    <tr>\n",
       "      <th>75%</th>\n",
       "      <td>23.862500</td>\n",
       "      <td>1016.90000</td>\n",
       "      <td>90.043500</td>\n",
       "      <td>4.550900</td>\n",
       "      <td>27.184000</td>\n",
       "      <td>1096.000000</td>\n",
       "      <td>550.060000</td>\n",
       "      <td>140.895000</td>\n",
       "      <td>12.578000</td>\n",
       "      <td>2.160400</td>\n",
       "      <td>73.935500</td>\n",
       "    </tr>\n",
       "    <tr>\n",
       "      <th>max</th>\n",
       "      <td>34.929000</td>\n",
       "      <td>1034.20000</td>\n",
       "      <td>100.200000</td>\n",
       "      <td>7.610600</td>\n",
       "      <td>37.402000</td>\n",
       "      <td>1100.800000</td>\n",
       "      <td>550.610000</td>\n",
       "      <td>174.610000</td>\n",
       "      <td>15.081000</td>\n",
       "      <td>44.103000</td>\n",
       "      <td>119.890000</td>\n",
       "    </tr>\n",
       "  </tbody>\n",
       "</table>\n",
       "</div>"
      ],
      "text/plain": [
       "                 AT           AP            AH          AFDP          GTEP  \\\n",
       "count  15039.000000  15039.00000  15039.000000  15039.000000  15039.000000   \n",
       "mean      17.764381   1013.19924     79.124174      4.200294     25.419061   \n",
       "std        7.574323      6.41076     13.793439      0.760197      4.173916   \n",
       "min        0.522300    985.85000     30.344000      2.087400     17.878000   \n",
       "25%       11.408000   1008.90000     69.750000      3.723900     23.294000   \n",
       "50%       18.186000   1012.80000     82.266000      4.186200     25.082000   \n",
       "75%       23.862500   1016.90000     90.043500      4.550900     27.184000   \n",
       "max       34.929000   1034.20000    100.200000      7.610600     37.402000   \n",
       "\n",
       "                TIT           TAT           TEY           CDP            CO  \\\n",
       "count  15039.000000  15039.000000  15039.000000  15039.000000  15039.000000   \n",
       "mean    1083.798770    545.396183    134.188464     12.102353      1.972499   \n",
       "std       16.527806      7.866803     15.829717      1.103196      2.222206   \n",
       "min     1000.800000    512.450000    100.170000      9.904400      0.000388   \n",
       "25%     1079.600000    542.170000    127.985000     11.622000      0.858055   \n",
       "50%     1088.700000    549.890000    133.780000     12.025000      1.390200   \n",
       "75%     1096.000000    550.060000    140.895000     12.578000      2.160400   \n",
       "max     1100.800000    550.610000    174.610000     15.081000     44.103000   \n",
       "\n",
       "                NOX  \n",
       "count  15039.000000  \n",
       "mean      68.190934  \n",
       "std       10.470586  \n",
       "min       27.765000  \n",
       "25%       61.303500  \n",
       "50%       66.601000  \n",
       "75%       73.935500  \n",
       "max      119.890000  "
      ]
     },
     "execution_count": 4,
     "metadata": {},
     "output_type": "execute_result"
    }
   ],
   "source": [
    "data.describe()\n",
    "\n"
   ]
  },
  {
   "cell_type": "code",
   "execution_count": 5,
   "id": "38dc7d7c",
   "metadata": {
    "ExecuteTime": {
     "end_time": "2022-01-20T14:47:26.176393Z",
     "start_time": "2022-01-20T14:47:26.138604Z"
    }
   },
   "outputs": [
    {
     "data": {
      "text/html": [
       "<div>\n",
       "<style scoped>\n",
       "    .dataframe tbody tr th:only-of-type {\n",
       "        vertical-align: middle;\n",
       "    }\n",
       "\n",
       "    .dataframe tbody tr th {\n",
       "        vertical-align: top;\n",
       "    }\n",
       "\n",
       "    .dataframe thead th {\n",
       "        text-align: right;\n",
       "    }\n",
       "</style>\n",
       "<table border=\"1\" class=\"dataframe\">\n",
       "  <thead>\n",
       "    <tr style=\"text-align: right;\">\n",
       "      <th></th>\n",
       "      <th>AT</th>\n",
       "      <th>AP</th>\n",
       "      <th>AH</th>\n",
       "    </tr>\n",
       "  </thead>\n",
       "  <tbody>\n",
       "    <tr>\n",
       "      <th>0</th>\n",
       "      <td>6.8594</td>\n",
       "      <td>1007.9</td>\n",
       "      <td>96.799</td>\n",
       "    </tr>\n",
       "    <tr>\n",
       "      <th>1</th>\n",
       "      <td>6.7850</td>\n",
       "      <td>1008.4</td>\n",
       "      <td>97.118</td>\n",
       "    </tr>\n",
       "    <tr>\n",
       "      <th>2</th>\n",
       "      <td>6.8977</td>\n",
       "      <td>1008.8</td>\n",
       "      <td>95.939</td>\n",
       "    </tr>\n",
       "    <tr>\n",
       "      <th>3</th>\n",
       "      <td>7.0569</td>\n",
       "      <td>1009.2</td>\n",
       "      <td>95.249</td>\n",
       "    </tr>\n",
       "    <tr>\n",
       "      <th>4</th>\n",
       "      <td>7.3978</td>\n",
       "      <td>1009.7</td>\n",
       "      <td>95.150</td>\n",
       "    </tr>\n",
       "  </tbody>\n",
       "</table>\n",
       "</div>"
      ],
      "text/plain": [
       "       AT      AP      AH\n",
       "0  6.8594  1007.9  96.799\n",
       "1  6.7850  1008.4  97.118\n",
       "2  6.8977  1008.8  95.939\n",
       "3  7.0569  1009.2  95.249\n",
       "4  7.3978  1009.7  95.150"
      ]
     },
     "execution_count": 5,
     "metadata": {},
     "output_type": "execute_result"
    }
   ],
   "source": [
    "X = data.iloc[:,0:3]\n",
    "X.head()"
   ]
  },
  {
   "cell_type": "code",
   "execution_count": 6,
   "id": "d74a08a9",
   "metadata": {
    "ExecuteTime": {
     "end_time": "2022-01-20T14:47:29.458546Z",
     "start_time": "2022-01-20T14:47:29.442498Z"
    }
   },
   "outputs": [],
   "source": [
    "y = data['TEY']"
   ]
  },
  {
   "cell_type": "code",
   "execution_count": 12,
   "id": "95a02091",
   "metadata": {
    "ExecuteTime": {
     "end_time": "2022-01-20T14:49:19.468059Z",
     "start_time": "2022-01-20T14:49:19.210633Z"
    }
   },
   "outputs": [
    {
     "data": {
      "text/plain": [
       "{'whiskers': [<matplotlib.lines.Line2D at 0x1c11a759040>,\n",
       "  <matplotlib.lines.Line2D at 0x1c11a7834f0>],\n",
       " 'caps': [<matplotlib.lines.Line2D at 0x1c11a815a60>,\n",
       "  <matplotlib.lines.Line2D at 0x1c11a7b18b0>],\n",
       " 'boxes': [<matplotlib.lines.Line2D at 0x1c11a7c9f40>],\n",
       " 'medians': [<matplotlib.lines.Line2D at 0x1c11a7bb3d0>],\n",
       " 'fliers': [<matplotlib.lines.Line2D at 0x1c11a79aa60>],\n",
       " 'means': []}"
      ]
     },
     "execution_count": 12,
     "metadata": {},
     "output_type": "execute_result"
    },
    {
     "data": {
      "image/png": "[encoded data removed]",
      "text/plain": [
       "<Figure size 1080x504 with 1 Axes>"
      ]
     },
     "metadata": {
      "needs_background": "light"
     },
     "output_type": "display_data"
    }
   ],
   "source": [
    "plt.figure(figsize=(15,7))\n",
    "plt.boxplot(data['TEY'])"
   ]
  },
  {
   "cell_type": "code",
   "execution_count": 7,
   "id": "20810316",
   "metadata": {
    "ExecuteTime": {
     "end_time": "2022-01-20T14:42:44.546562Z",
     "start_time": "2022-01-20T14:42:43.430088Z"
    }
   },
   "outputs": [],
   "source": [
    "from sklearn.model_selection import train_test_split\n",
    "from sklearn.preprocessing import StandardScaler"
   ]
  },
  {
   "cell_type": "code",
   "execution_count": 8,
   "id": "07af3fbf",
   "metadata": {
    "ExecuteTime": {
     "end_time": "2022-01-20T14:42:48.170093Z",
     "start_time": "2022-01-20T14:42:48.146202Z"
    }
   },
   "outputs": [],
   "source": [
    "sc = StandardScaler()\n",
    "X_norm = sc.fit_transform(X)\n",
    "\n",
    "y_array = np.array(y)\n",
    "y_array.ndim\n",
    "y_shape = np.reshape(y_array,(-1,1))\n",
    "y_shape.ndim\n",
    "\n",
    "y_norm = sc.fit_transform(y_shape)"
   ]
  },
  {
   "cell_type": "code",
   "execution_count": 9,
   "id": "f2b8b735",
   "metadata": {
    "ExecuteTime": {
     "end_time": "2022-01-20T14:42:51.954221Z",
     "start_time": "2022-01-20T14:42:51.930503Z"
    }
   },
   "outputs": [],
   "source": [
    "X_train,X_test,y_train,y_test = train_test_split(X_norm,y_norm,test_size=0.2,random_state=1)"
   ]
  },
  {
   "cell_type": "code",
   "execution_count": null,
   "id": "05bd028b",
   "metadata": {
    "ExecuteTime": {
     "start_time": "2022-01-20T14:44:08.656Z"
    }
   },
   "outputs": [
    {
     "name": "stdout",
     "output_type": "stream",
     "text": [
      "Requirement already satisfied: keras in c:\\users\\tejas\\anaconda3\\lib\\site-packages (2.7.0)\n"
     ]
    }
   ],
   "source": [
    "!pip install keras\n",
    "!pip install tensorflow"
   ]
  },
  {
   "cell_type": "code",
   "execution_count": null,
   "id": "5722f774",
   "metadata": {
    "ExecuteTime": {
     "start_time": "2022-01-20T14:44:14.228Z"
    }
   },
   "outputs": [],
   "source": [
    "from keras.layers import Dense\n",
    "from keras.models import Sequential"
   ]
  },
  {
   "cell_type": "code",
   "execution_count": 29,
   "id": "8044bb7d",
   "metadata": {
    "ExecuteTime": {
     "end_time": "2021-11-11T20:02:14.230948Z",
     "start_time": "2021-11-11T20:02:14.164642Z"
    }
   },
   "outputs": [],
   "source": [
    "model = Sequential()\n",
    "model.add(Dense(20,input_dim=3,activation='relu'))\n",
    "model.add(Dense(12,activation='relu'))\n",
    "model.add(Dense(1,activation='sigmoid'))"
   ]
  },
  {
   "cell_type": "code",
   "execution_count": 33,
   "id": "e04f237c",
   "metadata": {
    "ExecuteTime": {
     "end_time": "2021-11-11T20:04:22.723672Z",
     "start_time": "2021-11-11T20:04:22.702689Z"
    }
   },
   "outputs": [],
   "source": [
    "model.compile(optimizer='adam',loss='mean_squared_error')"
   ]
  },
  {
   "cell_type": "code",
   "execution_count": 34,
   "id": "e4040f8d",
   "metadata": {
    "ExecuteTime": {
     "end_time": "2021-11-11T20:06:02.790220Z",
     "start_time": "2021-11-11T20:04:26.281333Z"
    }
   },
   "outputs": [
    {
     "name": "stdout",
     "output_type": "stream",
     "text": [
      "Epoch 1/100\n",
      "602/602 [==============================] - 1s 2ms/step - loss: 0.8904\n",
      "Epoch 2/100\n",
      "602/602 [==============================] - 1s 2ms/step - loss: 0.8910\n",
      "Epoch 3/100\n",
      "602/602 [==============================] - 1s 1ms/step - loss: 0.8902\n",
      "Epoch 4/100\n",
      "602/602 [==============================] - 1s 2ms/step - loss: 0.8902\n",
      "Epoch 5/100\n",
      "602/602 [==============================] - 1s 2ms/step - loss: 0.8900\n",
      "Epoch 6/100\n",
      "602/602 [==============================] - 1s 2ms/step - loss: 0.8902\n",
      "Epoch 7/100\n",
      "602/602 [==============================] - 1s 2ms/step - loss: 0.8907\n",
      "Epoch 8/100\n",
      "602/602 [==============================] - 1s 2ms/step - loss: 0.8899\n",
      "Epoch 9/100\n",
      "602/602 [==============================] - 1s 1ms/step - loss: 0.8900\n",
      "Epoch 10/100\n",
      "602/602 [==============================] - 1s 1ms/step - loss: 0.8898\n",
      "Epoch 11/100\n",
      "602/602 [==============================] - 1s 1ms/step - loss: 0.8897\n",
      "Epoch 12/100\n",
      "602/602 [==============================] - 1s 1ms/step - loss: 0.8899\n",
      "Epoch 13/100\n",
      "602/602 [==============================] - 1s 2ms/step - loss: 0.8894\n",
      "Epoch 14/100\n",
      "602/602 [==============================] - 1s 1ms/step - loss: 0.8891\n",
      "Epoch 15/100\n",
      "602/602 [==============================] - 1s 2ms/step - loss: 0.8884\n",
      "Epoch 16/100\n",
      "602/602 [==============================] - 1s 1ms/step - loss: 0.8895\n",
      "Epoch 17/100\n",
      "602/602 [==============================] - 1s 1ms/step - loss: 0.8893\n",
      "Epoch 18/100\n",
      "602/602 [==============================] - 1s 1ms/step - loss: 0.8889\n",
      "Epoch 19/100\n",
      "602/602 [==============================] - 1s 1ms/step - loss: 0.8891\n",
      "Epoch 20/100\n",
      "602/602 [==============================] - 1s 2ms/step - loss: 0.8891\n",
      "Epoch 21/100\n",
      "602/602 [==============================] - 1s 2ms/step - loss: 0.8892\n",
      "Epoch 22/100\n",
      "602/602 [==============================] - 1s 2ms/step - loss: 0.8885\n",
      "Epoch 23/100\n",
      "602/602 [==============================] - 1s 2ms/step - loss: 0.8881\n",
      "Epoch 24/100\n",
      "602/602 [==============================] - 1s 2ms/step - loss: 0.8888\n",
      "Epoch 25/100\n",
      "602/602 [==============================] - 1s 2ms/step - loss: 0.8883\n",
      "Epoch 26/100\n",
      "602/602 [==============================] - 1s 2ms/step - loss: 0.8881\n",
      "Epoch 27/100\n",
      "602/602 [==============================] - 1s 2ms/step - loss: 0.8886\n",
      "Epoch 28/100\n",
      "602/602 [==============================] - 1s 2ms/step - loss: 0.8881\n",
      "Epoch 29/100\n",
      "602/602 [==============================] - 1s 2ms/step - loss: 0.8883\n",
      "Epoch 30/100\n",
      "602/602 [==============================] - 1s 1ms/step - loss: 0.8875\n",
      "Epoch 31/100\n",
      "602/602 [==============================] - 1s 1ms/step - loss: 0.8873\n",
      "Epoch 32/100\n",
      "602/602 [==============================] - 1s 1ms/step - loss: 0.8879\n",
      "Epoch 33/100\n",
      "602/602 [==============================] - 1s 1ms/step - loss: 0.8880\n",
      "Epoch 34/100\n",
      "602/602 [==============================] - 1s 1ms/step - loss: 0.8882\n",
      "Epoch 35/100\n",
      "602/602 [==============================] - 1s 1ms/step - loss: 0.8880\n",
      "Epoch 36/100\n",
      "602/602 [==============================] - 1s 1ms/step - loss: 0.8877\n",
      "Epoch 37/100\n",
      "602/602 [==============================] - 1s 2ms/step - loss: 0.8880\n",
      "Epoch 38/100\n",
      "602/602 [==============================] - 1s 2ms/step - loss: 0.8873\n",
      "Epoch 39/100\n",
      "602/602 [==============================] - 1s 2ms/step - loss: 0.8872\n",
      "Epoch 40/100\n",
      "602/602 [==============================] - 1s 2ms/step - loss: 0.8865\n",
      "Epoch 41/100\n",
      "602/602 [==============================] - 1s 1ms/step - loss: 0.8868\n",
      "Epoch 42/100\n",
      "602/602 [==============================] - 1s 1ms/step - loss: 0.8869\n",
      "Epoch 43/100\n",
      "602/602 [==============================] - 1s 2ms/step - loss: 0.8871\n",
      "Epoch 44/100\n",
      "602/602 [==============================] - 1s 1ms/step - loss: 0.8862\n",
      "Epoch 45/100\n",
      "602/602 [==============================] - 1s 1ms/step - loss: 0.8870\n",
      "Epoch 46/100\n",
      "602/602 [==============================] - 1s 1ms/step - loss: 0.8873\n",
      "Epoch 47/100\n",
      "602/602 [==============================] - 1s 1ms/step - loss: 0.8865\n",
      "Epoch 48/100\n",
      "602/602 [==============================] - 1s 2ms/step - loss: 0.8870A: 0s - los\n",
      "Epoch 49/100\n",
      "602/602 [==============================] - 1s 1ms/step - loss: 0.8859\n",
      "Epoch 50/100\n",
      "602/602 [==============================] - 1s 1ms/step - loss: 0.8872\n",
      "Epoch 51/100\n",
      "602/602 [==============================] - 1s 1ms/step - loss: 0.8856\n",
      "Epoch 52/100\n",
      "602/602 [==============================] - 1s 1ms/step - loss: 0.8860\n",
      "Epoch 53/100\n",
      "602/602 [==============================] - 1s 1ms/step - loss: 0.8862\n",
      "Epoch 54/100\n",
      "602/602 [==============================] - 1s 1ms/step - loss: 0.8861\n",
      "Epoch 55/100\n",
      "602/602 [==============================] - 1s 1ms/step - loss: 0.8868\n",
      "Epoch 56/100\n",
      "602/602 [==============================] - 1s 2ms/step - loss: 0.8861\n",
      "Epoch 57/100\n",
      "602/602 [==============================] - 1s 2ms/step - loss: 0.8860\n",
      "Epoch 58/100\n",
      "602/602 [==============================] - 1s 1ms/step - loss: 0.8858\n",
      "Epoch 59/100\n",
      "602/602 [==============================] - 1s 1ms/step - loss: 0.8860\n",
      "Epoch 60/100\n",
      "602/602 [==============================] - 1s 1ms/step - loss: 0.8857\n",
      "Epoch 61/100\n",
      "602/602 [==============================] - 1s 2ms/step - loss: 0.8862\n",
      "Epoch 62/100\n",
      "602/602 [==============================] - 1s 2ms/step - loss: 0.8864\n",
      "Epoch 63/100\n",
      "602/602 [==============================] - 1s 2ms/step - loss: 0.8852\n",
      "Epoch 64/100\n",
      "602/602 [==============================] - 1s 2ms/step - loss: 0.8860\n",
      "Epoch 65/100\n",
      "602/602 [==============================] - 1s 2ms/step - loss: 0.8854\n",
      "Epoch 66/100\n",
      "602/602 [==============================] - 1s 2ms/step - loss: 0.8855\n",
      "Epoch 67/100\n",
      "602/602 [==============================] - 1s 2ms/step - loss: 0.8851\n",
      "Epoch 68/100\n",
      "602/602 [==============================] - 1s 2ms/step - loss: 0.8852\n",
      "Epoch 69/100\n",
      "602/602 [==============================] - 1s 2ms/step - loss: 0.8845\n",
      "Epoch 70/100\n",
      "602/602 [==============================] - 1s 2ms/step - loss: 0.8855\n",
      "Epoch 71/100\n",
      "602/602 [==============================] - 1s 2ms/step - loss: 0.8853\n",
      "Epoch 72/100\n",
      "602/602 [==============================] - 1s 2ms/step - loss: 0.8848\n",
      "Epoch 73/100\n",
      "602/602 [==============================] - 1s 2ms/step - loss: 0.8843\n",
      "Epoch 74/100\n",
      "602/602 [==============================] - 1s 2ms/step - loss: 0.8849\n",
      "Epoch 75/100\n",
      "602/602 [==============================] - 1s 2ms/step - loss: 0.8850\n",
      "Epoch 76/100\n",
      "602/602 [==============================] - 1s 2ms/step - loss: 0.8852\n",
      "Epoch 77/100\n",
      "602/602 [==============================] - 1s 2ms/step - loss: 0.8851\n",
      "Epoch 78/100\n",
      "602/602 [==============================] - 1s 2ms/step - loss: 0.8854\n",
      "Epoch 79/100\n",
      "602/602 [==============================] - 1s 2ms/step - loss: 0.8847\n",
      "Epoch 80/100\n",
      "602/602 [==============================] - 1s 2ms/step - loss: 0.8846\n",
      "Epoch 81/100\n",
      "602/602 [==============================] - 1s 2ms/step - loss: 0.8844\n",
      "Epoch 82/100\n",
      "602/602 [==============================] - 1s 1ms/step - loss: 0.8845\n",
      "Epoch 83/100\n",
      "602/602 [==============================] - 1s 1ms/step - loss: 0.8856\n",
      "Epoch 84/100\n",
      "602/602 [==============================] - 1s 1ms/step - loss: 0.8840\n",
      "Epoch 85/100\n",
      "602/602 [==============================] - 1s 2ms/step - loss: 0.8845\n",
      "Epoch 86/100\n",
      "602/602 [==============================] - 1s 2ms/step - loss: 0.8847\n",
      "Epoch 87/100\n",
      "602/602 [==============================] - 1s 2ms/step - loss: 0.8833A:\n",
      "Epoch 88/100\n",
      "602/602 [==============================] - 1s 2ms/step - loss: 0.8851\n",
      "Epoch 89/100\n",
      "602/602 [==============================] - 1s 2ms/step - loss: 0.8843\n",
      "Epoch 90/100\n",
      "602/602 [==============================] - 1s 2ms/step - loss: 0.8844\n",
      "Epoch 91/100\n",
      "602/602 [==============================] - 1s 2ms/step - loss: 0.8835\n",
      "Epoch 92/100\n",
      "602/602 [==============================] - 1s 2ms/step - loss: 0.8835\n",
      "Epoch 93/100\n",
      "602/602 [==============================] - 1s 2ms/step - loss: 0.8841\n",
      "Epoch 94/100\n",
      "602/602 [==============================] - 1s 2ms/step - loss: 0.8838\n",
      "Epoch 95/100\n",
      "602/602 [==============================] - 1s 2ms/step - loss: 0.8835\n",
      "Epoch 96/100\n",
      "602/602 [==============================] - 1s 2ms/step - loss: 0.8843\n",
      "Epoch 97/100\n",
      "602/602 [==============================] - 1s 2ms/step - loss: 0.8834\n",
      "Epoch 98/100\n",
      "602/602 [==============================] - 1s 2ms/step - loss: 0.8832A: 0s - l\n",
      "Epoch 99/100\n",
      "602/602 [==============================] - 1s 2ms/step - loss: 0.8832\n",
      "Epoch 100/100\n",
      "602/602 [==============================] - 1s 1ms/step - loss: 0.8838\n"
     ]
    },
    {
     "data": {
      "text/plain": [
       "<keras.callbacks.History at 0x25e517c1f40>"
      ]
     },
     "execution_count": 34,
     "metadata": {},
     "output_type": "execute_result"
    }
   ],
   "source": [
    "model.fit(X_train,y_train,epochs=100,batch_size=20)"
   ]
  },
  {
   "cell_type": "code",
   "execution_count": 35,
   "id": "767e18b6",
   "metadata": {
    "ExecuteTime": {
     "end_time": "2021-11-11T20:06:17.159564Z",
     "start_time": "2021-11-11T20:06:16.877485Z"
    }
   },
   "outputs": [],
   "source": [
    "y_pred = model.predict(X_test)"
   ]
  },
  {
   "cell_type": "code",
   "execution_count": 39,
   "id": "67df9681",
   "metadata": {
    "ExecuteTime": {
     "end_time": "2021-11-11T20:10:56.465661Z",
     "start_time": "2021-11-11T20:10:55.925656Z"
    }
   },
   "outputs": [
    {
     "data": {
      "image/png": "[encoded data removed]",
      "text/plain": [
       "<Figure size 1080x576 with 1 Axes>"
      ]
     },
     "metadata": {
      "needs_background": "light"
     },
     "output_type": "display_data"
    }
   ],
   "source": [
    "\n",
    "plt.figure(figsize=(15,8))\n",
    "\n",
    "plt.plot(y_test,color='red',label='real data')\n",
    "plt.plot(y_pred,color='black',label='pred data')\n",
    "plt.title(\"prediction\")\n",
    "plt.legend()\n",
    "plt.show()"
   ]
  }
 ],
 "metadata": {
  "kernelspec": {
   "display_name": "Python 3 (ipykernel)",
   "language": "python",
   "name": "python3"
  },
  "language_info": {
   "codemirror_mode": {
    "name": "ipython",
    "version": 3
   },
   "file_extension": ".py",
   "mimetype": "text/x-python",
   "name": "python",
   "nbconvert_exporter": "python",
   "pygments_lexer": "ipython3",
   "version": "3.9.7"
  },
  "varInspector": {
   "cols": {
    "lenName": 16,
    "lenType": 16,
    "lenVar": 40
   },
   "kernels_config": {
    "python": {
     "delete_cmd_postfix": "",
     "delete_cmd_prefix": "del ",
     "library": "var_list.py",
     "varRefreshCmd": "print(var_dic_list())"
    },
    "r": {
     "delete_cmd_postfix": ") ",
     "delete_cmd_prefix": "rm(",
     "library": "var_list.r",
     "varRefreshCmd": "cat(var_dic_list()) "
    }
   },
   "types_to_exclude": [
    "module",
    "function",
    "builtin_function_or_method",
    "instance",
    "_Feature"
   ],
   "window_display": false
  }
 },
 "nbformat": 4,
 "nbformat_minor": 5
}
